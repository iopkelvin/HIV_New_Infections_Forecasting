{
 "cells": [
  {
   "cell_type": "code",
   "execution_count": 1,
   "metadata": {},
   "outputs": [
    {
     "data": {
      "text/plain": [
       "['/Users/kelvin/anaconda3/lib/python3.7/site-packages/requests']"
      ]
     },
     "execution_count": 1,
     "metadata": {},
     "output_type": "execute_result"
    }
   ],
   "source": [
    "from __future__ import print_function, division\n",
    "import pandas as pd\n",
    "import numpy as np\n",
    "# if needed: pip install requests or conda install requests\n",
    "import requests\n",
    "from bs4 import BeautifulSoup\n",
    "requests.__path__"
   ]
  },
  {
   "cell_type": "code",
   "execution_count": 2,
   "metadata": {},
   "outputs": [],
   "source": [
    "#HIV by country\n",
    "url = 'https://apps.who.int/gho/athena/data/GHO/HIV_0000000001,HIV_0000000009,HIV_ARTCOVERAGE.html?profile=ztable'\n",
    "response = requests.get(url)\n",
    "page = response.text"
   ]
  },
  {
   "cell_type": "code",
   "execution_count": 4,
   "metadata": {
    "scrolled": true
   },
   "outputs": [],
   "source": [
    "soup = BeautifulSoup(page, \"html.parser\")"
   ]
  },
  {
   "cell_type": "code",
   "execution_count": 15,
   "metadata": {},
   "outputs": [],
   "source": [
    "article_values = [entry.text for entry in soup.find_all('td')]"
   ]
  },
  {
   "cell_type": "code",
   "execution_count": 38,
   "metadata": {},
   "outputs": [],
   "source": [
    "columns = [\"GHO\", \"PUBLISH_STATE\", \"YEAR\", \"REGION\", \"COUNTRY\", \"DISPLAY_VALUE\", \"NUMERIC_VALUE\", \"LOW_RANGE\", \"HIGH_RANGE\", \"COMMENT\"]"
   ]
  },
  {
   "cell_type": "code",
   "execution_count": 39,
   "metadata": {},
   "outputs": [],
   "source": [
    "from collections import defaultdict\n",
    "\n",
    "article_dict = defaultdict(list)\n",
    "\n",
    "for idx, article_value in enumerate(article_values):\n",
    "    if idx % 10 == 0:\n",
    "        article_dict[columns[0]].append(article_value)\n",
    "        article_dict[columns[1]].append(article_values[idx+1])\n",
    "        article_dict[columns[2]].append(article_values[idx+2])\n",
    "        article_dict[columns[3]].append(article_values[idx+3])\n",
    "        article_dict[columns[4]].append(article_values[idx+4])\n",
    "        article_dict[columns[5]].append(article_values[idx+5])\n",
    "        article_dict[columns[6]].append(article_values[idx+6])\n",
    "        article_dict[columns[7]].append(article_values[idx+7])\n",
    "        article_dict[columns[8]].append(article_values[idx+8])"
   ]
  },
  {
   "cell_type": "code",
   "execution_count": 40,
   "metadata": {},
   "outputs": [
    {
     "data": {
      "text/plain": [
       "dict_keys(['GHO', 'PUBLISH_STATE', 'YEAR', 'REGION', 'COUNTRY', 'DISPLAY_VALUE', 'NUMERIC_VALUE', 'LOW_RANGE', 'HIGH_RANGE'])"
      ]
     },
     "execution_count": 40,
     "metadata": {},
     "output_type": "execute_result"
    }
   ],
   "source": [
    "article_dict.keys()"
   ]
  },
  {
   "cell_type": "code",
   "execution_count": 41,
   "metadata": {
    "scrolled": true
   },
   "outputs": [
    {
     "data": {
      "text/html": [
       "<div>\n",
       "<style scoped>\n",
       "    .dataframe tbody tr th:only-of-type {\n",
       "        vertical-align: middle;\n",
       "    }\n",
       "\n",
       "    .dataframe tbody tr th {\n",
       "        vertical-align: top;\n",
       "    }\n",
       "\n",
       "    .dataframe thead th {\n",
       "        text-align: right;\n",
       "    }\n",
       "</style>\n",
       "<table border=\"1\" class=\"dataframe\">\n",
       "  <thead>\n",
       "    <tr style=\"text-align: right;\">\n",
       "      <th></th>\n",
       "      <th>gho</th>\n",
       "      <th>publish_state</th>\n",
       "      <th>year</th>\n",
       "      <th>region</th>\n",
       "      <th>country</th>\n",
       "      <th>display_value</th>\n",
       "      <th>numeric_value</th>\n",
       "      <th>low_range</th>\n",
       "      <th>high_range</th>\n",
       "    </tr>\n",
       "  </thead>\n",
       "  <tbody>\n",
       "    <tr>\n",
       "      <td>450</td>\n",
       "      <td>Estimated antiretroviral therapy coverage amon...</td>\n",
       "      <td>Published</td>\n",
       "      <td>2018</td>\n",
       "      <td>Americas</td>\n",
       "      <td>Jamaica</td>\n",
       "      <td>31 [27–36]</td>\n",
       "      <td>31.00000</td>\n",
       "      <td>27.00000</td>\n",
       "      <td>36.00000</td>\n",
       "    </tr>\n",
       "    <tr>\n",
       "      <td>446</td>\n",
       "      <td>Estimated antiretroviral therapy coverage amon...</td>\n",
       "      <td>Published</td>\n",
       "      <td>2018</td>\n",
       "      <td>Africa</td>\n",
       "      <td>Ghana</td>\n",
       "      <td>34 [28–39]</td>\n",
       "      <td>34.00000</td>\n",
       "      <td>28.00000</td>\n",
       "      <td>39.00000</td>\n",
       "    </tr>\n",
       "    <tr>\n",
       "      <td>445</td>\n",
       "      <td>Estimated antiretroviral therapy coverage amon...</td>\n",
       "      <td>Published</td>\n",
       "      <td>2018</td>\n",
       "      <td>Europe</td>\n",
       "      <td>Germany</td>\n",
       "      <td>80 [65–93]</td>\n",
       "      <td>80.00000</td>\n",
       "      <td>65.00000</td>\n",
       "      <td>93.00000</td>\n",
       "    </tr>\n",
       "    <tr>\n",
       "      <td>444</td>\n",
       "      <td>Estimated antiretroviral therapy coverage amon...</td>\n",
       "      <td>Published</td>\n",
       "      <td>2018</td>\n",
       "      <td>Eastern Mediterranean</td>\n",
       "      <td>Egypt</td>\n",
       "      <td>31 [28–33]</td>\n",
       "      <td>31.00000</td>\n",
       "      <td>28.00000</td>\n",
       "      <td>33.00000</td>\n",
       "    </tr>\n",
       "    <tr>\n",
       "      <td>443</td>\n",
       "      <td>Estimated antiretroviral therapy coverage amon...</td>\n",
       "      <td>Published</td>\n",
       "      <td>2018</td>\n",
       "      <td>Americas</td>\n",
       "      <td>Ecuador</td>\n",
       "      <td>57 [38–93]</td>\n",
       "      <td>57.00000</td>\n",
       "      <td>38.00000</td>\n",
       "      <td>93.00000</td>\n",
       "    </tr>\n",
       "  </tbody>\n",
       "</table>\n",
       "</div>"
      ],
      "text/plain": [
       "                                                   gho publish_state  year  \\\n",
       "450  Estimated antiretroviral therapy coverage amon...     Published  2018   \n",
       "446  Estimated antiretroviral therapy coverage amon...     Published  2018   \n",
       "445  Estimated antiretroviral therapy coverage amon...     Published  2018   \n",
       "444  Estimated antiretroviral therapy coverage amon...     Published  2018   \n",
       "443  Estimated antiretroviral therapy coverage amon...     Published  2018   \n",
       "\n",
       "                    region  country display_value numeric_value low_range  \\\n",
       "450               Americas  Jamaica    31 [27–36]      31.00000  27.00000   \n",
       "446                 Africa    Ghana    34 [28–39]      34.00000  28.00000   \n",
       "445                 Europe  Germany    80 [65–93]      80.00000  65.00000   \n",
       "444  Eastern Mediterranean    Egypt    31 [28–33]      31.00000  28.00000   \n",
       "443               Americas  Ecuador    57 [38–93]      57.00000  38.00000   \n",
       "\n",
       "    high_range  \n",
       "450   36.00000  \n",
       "446   39.00000  \n",
       "445   93.00000  \n",
       "444   33.00000  \n",
       "443   93.00000  "
      ]
     },
     "execution_count": 41,
     "metadata": {},
     "output_type": "execute_result"
    }
   ],
   "source": [
    "#Putting dict into DF\n",
    "dataset = pd.DataFrame(article_dict)\n",
    "#standardizing\n",
    "dataset.columns = dataset.columns.str.lower()\n",
    "#Sorting by GHO\n",
    "dataset = dataset.sort_values(\"gho\")\n",
    "dataset.head()"
   ]
  },
  {
   "cell_type": "code",
   "execution_count": 117,
   "metadata": {},
   "outputs": [],
   "source": [
    "columns = ['gho', 'year', 'region', 'country', 'numeric_value', 'low_range', 'high_range']\n",
    "dataset = dataset[columns]"
   ]
  },
  {
   "cell_type": "code",
   "execution_count": 123,
   "metadata": {},
   "outputs": [],
   "source": [
    "gho_dummies = pd.get_dummies(dataset[\"gho\"]).astype(float)\n",
    "year_dummies = pd.get_dummies(dataset[\"year\"]).astype(float)\n",
    "region_dummies = pd.get_dummies(dataset[\"region\"]).astype(float)\n",
    "country_dummies = pd.get_dummies(dataset[\"country\"]).astype(float)"
   ]
  },
  {
   "cell_type": "code",
   "execution_count": 125,
   "metadata": {},
   "outputs": [],
   "source": [
    "data_clean = pd.concat([data, gho_dummies, year_dummies, region_dummies, country_dummies], axis=1)"
   ]
  },
  {
   "cell_type": "code",
   "execution_count": 126,
   "metadata": {},
   "outputs": [
    {
     "data": {
      "text/plain": [
       "(1041, 188)"
      ]
     },
     "execution_count": 126,
     "metadata": {},
     "output_type": "execute_result"
    }
   ],
   "source": [
    "data_clean.shape"
   ]
  },
  {
   "cell_type": "code",
   "execution_count": 127,
   "metadata": {},
   "outputs": [
    {
     "data": {
      "text/plain": [
       "(665, 188)"
      ]
     },
     "execution_count": 127,
     "metadata": {},
     "output_type": "execute_result"
    }
   ],
   "source": [
    "data_clean = data_clean.replace(\"\", np.nan).dropna()\n",
    "data_clean.shape"
   ]
  },
  {
   "cell_type": "code",
   "execution_count": 129,
   "metadata": {
    "scrolled": true
   },
   "outputs": [
    {
     "data": {
      "text/html": [
       "<div>\n",
       "<style scoped>\n",
       "    .dataframe tbody tr th:only-of-type {\n",
       "        vertical-align: middle;\n",
       "    }\n",
       "\n",
       "    .dataframe tbody tr th {\n",
       "        vertical-align: top;\n",
       "    }\n",
       "\n",
       "    .dataframe thead th {\n",
       "        text-align: right;\n",
       "    }\n",
       "</style>\n",
       "<table border=\"1\" class=\"dataframe\">\n",
       "  <thead>\n",
       "    <tr style=\"text-align: right;\">\n",
       "      <th></th>\n",
       "      <th>numeric_value</th>\n",
       "      <th>low_range</th>\n",
       "      <th>high_range</th>\n",
       "      <th>Estimated antiretroviral therapy coverage among people living with HIV (%)</th>\n",
       "      <th>Estimated number of people (all ages) living with HIV</th>\n",
       "      <th>Reported number of people receiving antiretroviral therapy</th>\n",
       "      <th>2000</th>\n",
       "      <th>2005</th>\n",
       "      <th>2010</th>\n",
       "      <th>2018</th>\n",
       "      <th>...</th>\n",
       "      <th>United Kingdom of Great Britain and Northern Ireland</th>\n",
       "      <th>United Republic of Tanzania</th>\n",
       "      <th>United States of America</th>\n",
       "      <th>Uruguay</th>\n",
       "      <th>Uzbekistan</th>\n",
       "      <th>Venezuela (Bolivarian Republic of)</th>\n",
       "      <th>Viet Nam</th>\n",
       "      <th>Yemen</th>\n",
       "      <th>Zambia</th>\n",
       "      <th>Zimbabwe</th>\n",
       "    </tr>\n",
       "  </thead>\n",
       "  <tbody>\n",
       "    <tr>\n",
       "      <td>450</td>\n",
       "      <td>31.00000</td>\n",
       "      <td>27.00000</td>\n",
       "      <td>36.00000</td>\n",
       "      <td>1.0</td>\n",
       "      <td>0.0</td>\n",
       "      <td>0.0</td>\n",
       "      <td>0.0</td>\n",
       "      <td>0.0</td>\n",
       "      <td>0.0</td>\n",
       "      <td>1.0</td>\n",
       "      <td>...</td>\n",
       "      <td>0.0</td>\n",
       "      <td>0.0</td>\n",
       "      <td>0.0</td>\n",
       "      <td>0.0</td>\n",
       "      <td>0.0</td>\n",
       "      <td>0.0</td>\n",
       "      <td>0.0</td>\n",
       "      <td>0.0</td>\n",
       "      <td>0.0</td>\n",
       "      <td>0.0</td>\n",
       "    </tr>\n",
       "    <tr>\n",
       "      <td>446</td>\n",
       "      <td>34.00000</td>\n",
       "      <td>28.00000</td>\n",
       "      <td>39.00000</td>\n",
       "      <td>1.0</td>\n",
       "      <td>0.0</td>\n",
       "      <td>0.0</td>\n",
       "      <td>0.0</td>\n",
       "      <td>0.0</td>\n",
       "      <td>0.0</td>\n",
       "      <td>1.0</td>\n",
       "      <td>...</td>\n",
       "      <td>0.0</td>\n",
       "      <td>0.0</td>\n",
       "      <td>0.0</td>\n",
       "      <td>0.0</td>\n",
       "      <td>0.0</td>\n",
       "      <td>0.0</td>\n",
       "      <td>0.0</td>\n",
       "      <td>0.0</td>\n",
       "      <td>0.0</td>\n",
       "      <td>0.0</td>\n",
       "    </tr>\n",
       "    <tr>\n",
       "      <td>445</td>\n",
       "      <td>80.00000</td>\n",
       "      <td>65.00000</td>\n",
       "      <td>93.00000</td>\n",
       "      <td>1.0</td>\n",
       "      <td>0.0</td>\n",
       "      <td>0.0</td>\n",
       "      <td>0.0</td>\n",
       "      <td>0.0</td>\n",
       "      <td>0.0</td>\n",
       "      <td>1.0</td>\n",
       "      <td>...</td>\n",
       "      <td>0.0</td>\n",
       "      <td>0.0</td>\n",
       "      <td>0.0</td>\n",
       "      <td>0.0</td>\n",
       "      <td>0.0</td>\n",
       "      <td>0.0</td>\n",
       "      <td>0.0</td>\n",
       "      <td>0.0</td>\n",
       "      <td>0.0</td>\n",
       "      <td>0.0</td>\n",
       "    </tr>\n",
       "    <tr>\n",
       "      <td>444</td>\n",
       "      <td>31.00000</td>\n",
       "      <td>28.00000</td>\n",
       "      <td>33.00000</td>\n",
       "      <td>1.0</td>\n",
       "      <td>0.0</td>\n",
       "      <td>0.0</td>\n",
       "      <td>0.0</td>\n",
       "      <td>0.0</td>\n",
       "      <td>0.0</td>\n",
       "      <td>1.0</td>\n",
       "      <td>...</td>\n",
       "      <td>0.0</td>\n",
       "      <td>0.0</td>\n",
       "      <td>0.0</td>\n",
       "      <td>0.0</td>\n",
       "      <td>0.0</td>\n",
       "      <td>0.0</td>\n",
       "      <td>0.0</td>\n",
       "      <td>0.0</td>\n",
       "      <td>0.0</td>\n",
       "      <td>0.0</td>\n",
       "    </tr>\n",
       "    <tr>\n",
       "      <td>443</td>\n",
       "      <td>57.00000</td>\n",
       "      <td>38.00000</td>\n",
       "      <td>93.00000</td>\n",
       "      <td>1.0</td>\n",
       "      <td>0.0</td>\n",
       "      <td>0.0</td>\n",
       "      <td>0.0</td>\n",
       "      <td>0.0</td>\n",
       "      <td>0.0</td>\n",
       "      <td>1.0</td>\n",
       "      <td>...</td>\n",
       "      <td>0.0</td>\n",
       "      <td>0.0</td>\n",
       "      <td>0.0</td>\n",
       "      <td>0.0</td>\n",
       "      <td>0.0</td>\n",
       "      <td>0.0</td>\n",
       "      <td>0.0</td>\n",
       "      <td>0.0</td>\n",
       "      <td>0.0</td>\n",
       "      <td>0.0</td>\n",
       "    </tr>\n",
       "  </tbody>\n",
       "</table>\n",
       "<p>5 rows × 188 columns</p>\n",
       "</div>"
      ],
      "text/plain": [
       "    numeric_value low_range high_range  \\\n",
       "450      31.00000  27.00000   36.00000   \n",
       "446      34.00000  28.00000   39.00000   \n",
       "445      80.00000  65.00000   93.00000   \n",
       "444      31.00000  28.00000   33.00000   \n",
       "443      57.00000  38.00000   93.00000   \n",
       "\n",
       "     Estimated antiretroviral therapy coverage among people living with HIV (%)  \\\n",
       "450                                                1.0                            \n",
       "446                                                1.0                            \n",
       "445                                                1.0                            \n",
       "444                                                1.0                            \n",
       "443                                                1.0                            \n",
       "\n",
       "     Estimated number of people (all ages) living with HIV  \\\n",
       "450                                                0.0       \n",
       "446                                                0.0       \n",
       "445                                                0.0       \n",
       "444                                                0.0       \n",
       "443                                                0.0       \n",
       "\n",
       "     Reported number of people receiving antiretroviral therapy  2000  2005  \\\n",
       "450                                                0.0            0.0   0.0   \n",
       "446                                                0.0            0.0   0.0   \n",
       "445                                                0.0            0.0   0.0   \n",
       "444                                                0.0            0.0   0.0   \n",
       "443                                                0.0            0.0   0.0   \n",
       "\n",
       "     2010  2018  ...  United Kingdom of Great Britain and Northern Ireland  \\\n",
       "450   0.0   1.0  ...                                                0.0      \n",
       "446   0.0   1.0  ...                                                0.0      \n",
       "445   0.0   1.0  ...                                                0.0      \n",
       "444   0.0   1.0  ...                                                0.0      \n",
       "443   0.0   1.0  ...                                                0.0      \n",
       "\n",
       "     United Republic of Tanzania  United States of America  Uruguay  \\\n",
       "450                          0.0                       0.0      0.0   \n",
       "446                          0.0                       0.0      0.0   \n",
       "445                          0.0                       0.0      0.0   \n",
       "444                          0.0                       0.0      0.0   \n",
       "443                          0.0                       0.0      0.0   \n",
       "\n",
       "     Uzbekistan  Venezuela (Bolivarian Republic of)  Viet Nam  Yemen  Zambia  \\\n",
       "450         0.0                                 0.0       0.0    0.0     0.0   \n",
       "446         0.0                                 0.0       0.0    0.0     0.0   \n",
       "445         0.0                                 0.0       0.0    0.0     0.0   \n",
       "444         0.0                                 0.0       0.0    0.0     0.0   \n",
       "443         0.0                                 0.0       0.0    0.0     0.0   \n",
       "\n",
       "     Zimbabwe  \n",
       "450       0.0  \n",
       "446       0.0  \n",
       "445       0.0  \n",
       "444       0.0  \n",
       "443       0.0  \n",
       "\n",
       "[5 rows x 188 columns]"
      ]
     },
     "execution_count": 129,
     "metadata": {},
     "output_type": "execute_result"
    }
   ],
   "source": [
    "data_clean.head()"
   ]
  },
  {
   "cell_type": "code",
   "execution_count": 151,
   "metadata": {
    "scrolled": true
   },
   "outputs": [],
   "source": [
    "data_clean[['numeric_value', 'low_range', 'high_range']] = data_clean[['numeric_value', 'low_range', 'high_range']].replace(\" \", \"\").astype(float)"
   ]
  },
  {
   "cell_type": "code",
   "execution_count": 159,
   "metadata": {},
   "outputs": [
    {
     "data": {
      "text/plain": [
       "(665, 188)"
      ]
     },
     "execution_count": 159,
     "metadata": {},
     "output_type": "execute_result"
    }
   ],
   "source": [
    "data_clean.shape"
   ]
  },
  {
   "cell_type": "code",
   "execution_count": 161,
   "metadata": {},
   "outputs": [],
   "source": [
    "y = data_clean.iloc[:, :1]\n",
    "x = data_clean.iloc[:, 1:]"
   ]
  },
  {
   "cell_type": "code",
   "execution_count": 162,
   "metadata": {},
   "outputs": [],
   "source": [
    "from sklearn.linear_model import LinearRegression\n",
    "from sklearn.model_selection import train_test_split"
   ]
  },
  {
   "cell_type": "code",
   "execution_count": 171,
   "metadata": {},
   "outputs": [
    {
     "name": "stdout",
     "output_type": "stream",
     "text": [
      "x_train: \n",
      " (498, 187)\n",
      "x_test: \n",
      " (167, 187)\n",
      "y_train: \n",
      " (498, 1)\n",
      "y_test: \n",
      " (167, 1)\n"
     ]
    }
   ],
   "source": [
    "x_train, x_test, y_train, y_test = train_test_split(x, y, test_size=.25)\n",
    "print(\"x_train: \\n\", x_train.shape)\n",
    "print(\"x_test: \\n\", x_test.shape)\n",
    "print(\"y_train: \\n\", y_train.shape)\n",
    "print(\"y_test: \\n\", y_test.shape)"
   ]
  },
  {
   "cell_type": "code",
   "execution_count": 172,
   "metadata": {},
   "outputs": [
    {
     "data": {
      "text/plain": [
       "0.9999728906388036"
      ]
     },
     "execution_count": 172,
     "metadata": {},
     "output_type": "execute_result"
    }
   ],
   "source": [
    "lr = LinearRegression()\n",
    "lr.fit(x_train, y_train)\n",
    "predicted = lr.predict(x_test)\n",
    "lr.score(x_train, y_train)"
   ]
  },
  {
   "cell_type": "code",
   "execution_count": 193,
   "metadata": {},
   "outputs": [
    {
     "data": {
      "text/plain": [
       "(167, 1)"
      ]
     },
     "execution_count": 193,
     "metadata": {},
     "output_type": "execute_result"
    }
   ],
   "source": [
    "y_test.shape"
   ]
  },
  {
   "cell_type": "code",
   "execution_count": 192,
   "metadata": {},
   "outputs": [
    {
     "data": {
      "text/html": [
       "<div>\n",
       "<style scoped>\n",
       "    .dataframe tbody tr th:only-of-type {\n",
       "        vertical-align: middle;\n",
       "    }\n",
       "\n",
       "    .dataframe tbody tr th {\n",
       "        vertical-align: top;\n",
       "    }\n",
       "\n",
       "    .dataframe thead th {\n",
       "        text-align: right;\n",
       "    }\n",
       "</style>\n",
       "<table border=\"1\" class=\"dataframe\">\n",
       "  <thead>\n",
       "    <tr style=\"text-align: right;\">\n",
       "      <th></th>\n",
       "      <th>0</th>\n",
       "    </tr>\n",
       "  </thead>\n",
       "  <tbody>\n",
       "    <tr>\n",
       "      <td>0</td>\n",
       "      <td>29970.787453</td>\n",
       "    </tr>\n",
       "    <tr>\n",
       "      <td>1</td>\n",
       "      <td>19446.648945</td>\n",
       "    </tr>\n",
       "    <tr>\n",
       "      <td>2</td>\n",
       "      <td>106431.788361</td>\n",
       "    </tr>\n",
       "    <tr>\n",
       "      <td>3</td>\n",
       "      <td>38711.014025</td>\n",
       "    </tr>\n",
       "    <tr>\n",
       "      <td>4</td>\n",
       "      <td>-2392.964851</td>\n",
       "    </tr>\n",
       "    <tr>\n",
       "      <td>...</td>\n",
       "      <td>...</td>\n",
       "    </tr>\n",
       "    <tr>\n",
       "      <td>162</td>\n",
       "      <td>6676.356366</td>\n",
       "    </tr>\n",
       "    <tr>\n",
       "      <td>163</td>\n",
       "      <td>14930.170324</td>\n",
       "    </tr>\n",
       "    <tr>\n",
       "      <td>164</td>\n",
       "      <td>41107.500224</td>\n",
       "    </tr>\n",
       "    <tr>\n",
       "      <td>165</td>\n",
       "      <td>142030.874364</td>\n",
       "    </tr>\n",
       "    <tr>\n",
       "      <td>166</td>\n",
       "      <td>4124.035948</td>\n",
       "    </tr>\n",
       "  </tbody>\n",
       "</table>\n",
       "<p>167 rows × 1 columns</p>\n",
       "</div>"
      ],
      "text/plain": [
       "                 0\n",
       "0     29970.787453\n",
       "1     19446.648945\n",
       "2    106431.788361\n",
       "3     38711.014025\n",
       "4     -2392.964851\n",
       "..             ...\n",
       "162    6676.356366\n",
       "163   14930.170324\n",
       "164   41107.500224\n",
       "165  142030.874364\n",
       "166    4124.035948\n",
       "\n",
       "[167 rows x 1 columns]"
      ]
     },
     "execution_count": 192,
     "metadata": {},
     "output_type": "execute_result"
    }
   ],
   "source": [
    "predicted = pd.DataFrame(predicted)\n",
    "predicted.iloc[:, 0:]"
   ]
  },
  {
   "cell_type": "code",
   "execution_count": 187,
   "metadata": {},
   "outputs": [
    {
     "data": {
      "text/html": [
       "<div>\n",
       "<style scoped>\n",
       "    .dataframe tbody tr th:only-of-type {\n",
       "        vertical-align: middle;\n",
       "    }\n",
       "\n",
       "    .dataframe tbody tr th {\n",
       "        vertical-align: top;\n",
       "    }\n",
       "\n",
       "    .dataframe thead th {\n",
       "        text-align: right;\n",
       "    }\n",
       "</style>\n",
       "<table border=\"1\" class=\"dataframe\">\n",
       "  <thead>\n",
       "    <tr style=\"text-align: right;\">\n",
       "      <th></th>\n",
       "      <th>0</th>\n",
       "      <th>1</th>\n",
       "    </tr>\n",
       "  </thead>\n",
       "  <tbody>\n",
       "    <tr>\n",
       "      <td>0</td>\n",
       "      <td>NaN</td>\n",
       "      <td>29970.787453</td>\n",
       "    </tr>\n",
       "    <tr>\n",
       "      <td>1</td>\n",
       "      <td>NaN</td>\n",
       "      <td>19446.648945</td>\n",
       "    </tr>\n",
       "    <tr>\n",
       "      <td>2</td>\n",
       "      <td>82800.0</td>\n",
       "      <td>106431.788361</td>\n",
       "    </tr>\n",
       "    <tr>\n",
       "      <td>3</td>\n",
       "      <td>3800000.0</td>\n",
       "      <td>38711.014025</td>\n",
       "    </tr>\n",
       "    <tr>\n",
       "      <td>4</td>\n",
       "      <td>NaN</td>\n",
       "      <td>-2392.964851</td>\n",
       "    </tr>\n",
       "    <tr>\n",
       "      <td>...</td>\n",
       "      <td>...</td>\n",
       "      <td>...</td>\n",
       "    </tr>\n",
       "    <tr>\n",
       "      <td>982</td>\n",
       "      <td>56.0</td>\n",
       "      <td>NaN</td>\n",
       "    </tr>\n",
       "    <tr>\n",
       "      <td>983</td>\n",
       "      <td>73.0</td>\n",
       "      <td>NaN</td>\n",
       "    </tr>\n",
       "    <tr>\n",
       "      <td>988</td>\n",
       "      <td>65.0</td>\n",
       "      <td>NaN</td>\n",
       "    </tr>\n",
       "    <tr>\n",
       "      <td>993</td>\n",
       "      <td>60.0</td>\n",
       "      <td>NaN</td>\n",
       "    </tr>\n",
       "    <tr>\n",
       "      <td>996</td>\n",
       "      <td>78.0</td>\n",
       "      <td>NaN</td>\n",
       "    </tr>\n",
       "  </tbody>\n",
       "</table>\n",
       "<p>307 rows × 2 columns</p>\n",
       "</div>"
      ],
      "text/plain": [
       "             0              1\n",
       "0          NaN   29970.787453\n",
       "1          NaN   19446.648945\n",
       "2      82800.0  106431.788361\n",
       "3    3800000.0   38711.014025\n",
       "4          NaN   -2392.964851\n",
       "..         ...            ...\n",
       "982       56.0            NaN\n",
       "983       73.0            NaN\n",
       "988       65.0            NaN\n",
       "993       60.0            NaN\n",
       "996       78.0            NaN\n",
       "\n",
       "[307 rows x 2 columns]"
      ]
     },
     "execution_count": 187,
     "metadata": {},
     "output_type": "execute_result"
    }
   ],
   "source": [
    "pd.concat([y_test, predicted], ignore_index=True, axis=1)"
   ]
  },
  {
   "cell_type": "code",
   "execution_count": null,
   "metadata": {},
   "outputs": [],
   "source": []
  }
 ],
 "metadata": {
  "kernelspec": {
   "display_name": "Python 3",
   "language": "python",
   "name": "python3"
  },
  "language_info": {
   "codemirror_mode": {
    "name": "ipython",
    "version": 3
   },
   "file_extension": ".py",
   "mimetype": "text/x-python",
   "name": "python",
   "nbconvert_exporter": "python",
   "pygments_lexer": "ipython3",
   "version": "3.7.4"
  }
 },
 "nbformat": 4,
 "nbformat_minor": 2
}
