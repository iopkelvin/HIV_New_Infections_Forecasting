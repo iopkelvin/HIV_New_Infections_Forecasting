{
 "cells": [
  {
   "cell_type": "code",
   "execution_count": 1,
   "metadata": {},
   "outputs": [
    {
     "data": {
      "text/plain": [
       "<module 'Scrapped_datasets' from '/Users/kelvin/sf19_ds16/Projects/Causes of Death/Scrapped_datasets.py'>"
      ]
     },
     "execution_count": 1,
     "metadata": {},
     "output_type": "execute_result"
    }
   ],
   "source": [
    "import Dataset as d\n",
    "import Scrapped_datasets as v\n",
    "import pandas as pd\n",
    "import warnings\n",
    "warnings.filterwarnings(\"ignore\")\n",
    "from sklearn.model_selection import train_test_split, cross_val_score\n",
    "from sklearn.linear_model import LinearRegression, Lasso, Ridge, ElasticNet\n",
    "import seaborn as sns\n",
    "import importlib\n",
    "import matplotlib.pyplot as plt\n",
    "import statsmodels.api as sm\n",
    "import xgboost as xgb\n",
    "from sklearn.preprocessing import StandardScaler\n",
    "#country_data[~country_data.country.isin(list(data.country.unique()))].country.index\n",
    "importlib.reload(d)\n",
    "importlib.reload(v)"
   ]
  },
  {
   "cell_type": "code",
   "execution_count": 10,
   "metadata": {},
   "outputs": [
    {
     "data": {
      "text/plain": [
       "array(['Albania', 'Algeria', 'Angola', 'Arab World', 'Argentina',\n",
       "       'Armenia', 'Australia', 'Austria', 'Azerbaijan', 'Bahamas',\n",
       "       'Bahrain', 'Bangladesh', 'Barbados', 'Belarus', 'Belize', 'Benin',\n",
       "       'Bolivia', 'Botswana', 'Brazil', 'Bulgaria', 'Burkina Faso',\n",
       "       'Burundi', 'Cambodia', 'Cameroon', 'Cape Verde',\n",
       "       'Central African Republic', 'Chad', 'Chile', 'Colombia', 'Comoros',\n",
       "       'Congo', 'Costa Rica', \"Cote d'Ivoire\", 'Cuba', 'Cyprus',\n",
       "       'Czech Republic', 'Democratic Republic of Congo', 'Denmark',\n",
       "       'Djibouti', 'Dominican Republic', 'Early-demographic dividend',\n",
       "       'Ecuador', 'Egypt', 'El Salvador', 'Equatorial Guinea', 'Eritrea',\n",
       "       'Estonia', 'Ethiopia', 'Euro area', 'Europe & Central Asia',\n",
       "       'Europe & Central Asia (IDA & IBRD)',\n",
       "       'Europe & Central Asia (excluding high income)',\n",
       "       'Fragile and conflict affected situations', 'France', 'Gabon',\n",
       "       'Gambia', 'Georgia', 'Ghana', 'Greece', 'Guatemala', 'Guinea',\n",
       "       'Guinea-Bissau', 'Guyana', 'Haiti',\n",
       "       'Heavily indebted poor countries (HIPC)', 'Honduras', 'Hungary',\n",
       "       'IDA & IBRD total', 'IDA blend', 'IDA only', 'IDA total', 'India',\n",
       "       'Indonesia', 'Iran', 'Ireland', 'Italy', 'Japan', 'Kazakhstan',\n",
       "       'Kenya', 'Kuwait', 'Kyrgyzstan', 'Laos',\n",
       "       'Latin America & Caribbean',\n",
       "       'Latin America & Caribbean (IDA & IBRD)',\n",
       "       'Latin America & Caribbean (excluding high income)',\n",
       "       'Least developed countries: UN classification', 'Lebanon',\n",
       "       'Lesotho', 'Liberia', 'Lithuania', 'Low & middle income',\n",
       "       'Low income', 'Lower middle income', 'Luxembourg', 'Macedonia',\n",
       "       'Madagascar', 'Malawi', 'Malaysia', 'Mali', 'Mauritania', 'Mexico',\n",
       "       'Middle East & North Africa',\n",
       "       'Middle East & North Africa (IDA & IBRD)',\n",
       "       'Middle East & North Africa (excluding high income)',\n",
       "       'Middle income', 'Moldova', 'Mongolia', 'Montenegro', 'Morocco',\n",
       "       'Mozambique', 'Myanmar', 'Namibia', 'Nepal', 'Netherlands',\n",
       "       'New Zealand', 'Nicaragua', 'Niger', 'Nigeria', 'Norway',\n",
       "       'Other small states', 'Pakistan', 'Panama', 'Papua New Guinea',\n",
       "       'Paraguay', 'Peru', 'Philippines', 'Portugal',\n",
       "       'Pre-demographic dividend', 'Qatar', 'Romania', 'Russia', 'Rwanda',\n",
       "       'Senegal', 'Serbia', 'Sierra Leone', 'Singapore', 'Slovakia',\n",
       "       'Slovenia', 'Small states', 'Somalia', 'South Africa',\n",
       "       'South Asia', 'South Asia (IDA & IBRD)', 'South Sudan', 'Spain',\n",
       "       'Sri Lanka', 'Sub-Saharan Africa',\n",
       "       'Sub-Saharan Africa (IDA & IBRD)',\n",
       "       'Sub-Saharan Africa (excluding high income)', 'Sudan', 'Suriname',\n",
       "       'Swaziland', 'Tajikistan', 'Tanzania', 'Thailand', 'Togo',\n",
       "       'Trinidad and Tobago', 'Tunisia', 'Uganda', 'Ukraine', 'Uruguay',\n",
       "       'Uzbekistan', 'Vietnam', 'World', 'Zambia', 'Zimbabwe'],\n",
       "      dtype=object)"
      ]
     },
     "execution_count": 10,
     "metadata": {},
     "output_type": "execute_result"
    }
   ],
   "source": [
    "d.share_women.Entity.unique()"
   ]
  },
  {
   "cell_type": "code",
   "execution_count": null,
   "metadata": {},
   "outputs": [],
   "source": []
  }
 ],
 "metadata": {
  "kernelspec": {
   "display_name": "Python 3",
   "language": "python",
   "name": "python3"
  },
  "language_info": {
   "codemirror_mode": {
    "name": "ipython",
    "version": 3
   },
   "file_extension": ".py",
   "mimetype": "text/x-python",
   "name": "python",
   "nbconvert_exporter": "python",
   "pygments_lexer": "ipython3",
   "version": "3.7.4"
  }
 },
 "nbformat": 4,
 "nbformat_minor": 2
}
